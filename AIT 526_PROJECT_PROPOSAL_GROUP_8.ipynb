{
 "cells": [
  {
   "cell_type": "markdown",
   "id": "956a66bf",
   "metadata": {},
   "source": [
    "# Comparative Sentiment Analysis of Movie Reviews: Insight from Natural Language Processing"
   ]
  },
  {
   "cell_type": "raw",
   "id": "b12a571d",
   "metadata": {},
   "source": [
    "Authors : Abdul Aziz Sankoh, Sahithi Koduru, Satwik Pandrapagada, Sophia Herman\n",
    "\n",
    "Model Created on the 16th June 2024"
   ]
  },
  {
   "cell_type": "markdown",
   "id": "cd825e0c",
   "metadata": {},
   "source": [
    "#### PROBLEM STATEMENT"
   ]
  },
  {
   "cell_type": "raw",
   "id": "c1fd5c38",
   "metadata": {},
   "source": [
    "The sheer volume of user-generated opinion content has become so enormous that most companies spend a lot of time summarizing the state or general opinions about products, and this has created the need for automated and real-time opinion extraction and mining. However, with the emergence of natural language processing algorithms, several researchers or AI engineers have been able to process millions of reviews within a short period and find whether the review is positive or negative. However, the accuracies of most of the models have been questionable owing to the challenges in choosing the correct model. Therefore, the purpose of this project is to perform a comparative sentiment analysis on a large classified dataset of movie reviews from IMDB using advanced Natural Language Processing (NLP) techniques. The goal is to assess the accuracy of the classifications by integrating TF-IDF with various supervised machine learning models such as Naïve Bayes, Support Vector Machine, Decision Tree, and Logistics regression. This project will further investigate the potential strengths or weaknesses of the movie in question using N-Gram model frequencies. The limitation of the project is linked to the complexity of the need for extensive data preprocessing and the processes of selecting and fine-tuning appropriate machine-learning models."
   ]
  },
  {
   "cell_type": "markdown",
   "id": "d3f93aaa",
   "metadata": {},
   "source": [
    "### Import Necessary Libraries"
   ]
  },
  {
   "cell_type": "code",
   "execution_count": 1,
   "id": "668a2ef4",
   "metadata": {},
   "outputs": [],
   "source": [
    "from collections import defaultdict\n",
    "import math\n",
    "from nltk.corpus import stopwords\n",
    "from nltk.stem import WordNetLemmatizer\n",
    "from nltk.tokenize import RegexpTokenizer\n",
    "import pandas as pd\n",
    "import seaborn as sns\n",
    "import matplotlib.pyplot as plt\n",
    "from sklearn.feature_extraction.text import TfidfVectorizer\n",
    "from sklearn.naive_bayes import MultinomialNB\n",
    "from sklearn.metrics import precision_score, recall_score, f1_score, accuracy_score"
   ]
  },
  {
   "cell_type": "markdown",
   "id": "228e4072",
   "metadata": {},
   "source": [
    "### Import dataset "
   ]
  },
  {
   "cell_type": "code",
   "execution_count": 2,
   "id": "aadb4b4a",
   "metadata": {},
   "outputs": [],
   "source": [
    "#Import dataset\n",
    "df = pd.read_csv('IMDB dataset.csv')"
   ]
  },
  {
   "cell_type": "markdown",
   "id": "5b8a22ea",
   "metadata": {},
   "source": [
    "### Display the dataframe "
   ]
  },
  {
   "cell_type": "code",
   "execution_count": 3,
   "id": "d0923608",
   "metadata": {},
   "outputs": [
    {
     "data": {
      "text/html": [
       "<div>\n",
       "<style scoped>\n",
       "    .dataframe tbody tr th:only-of-type {\n",
       "        vertical-align: middle;\n",
       "    }\n",
       "\n",
       "    .dataframe tbody tr th {\n",
       "        vertical-align: top;\n",
       "    }\n",
       "\n",
       "    .dataframe thead th {\n",
       "        text-align: right;\n",
       "    }\n",
       "</style>\n",
       "<table border=\"1\" class=\"dataframe\">\n",
       "  <thead>\n",
       "    <tr style=\"text-align: right;\">\n",
       "      <th></th>\n",
       "      <th>review</th>\n",
       "      <th>sentiment</th>\n",
       "    </tr>\n",
       "  </thead>\n",
       "  <tbody>\n",
       "    <tr>\n",
       "      <th>0</th>\n",
       "      <td>One of the other reviewers has mentioned that ...</td>\n",
       "      <td>positive</td>\n",
       "    </tr>\n",
       "    <tr>\n",
       "      <th>1</th>\n",
       "      <td>A wonderful little production. &lt;br /&gt;&lt;br /&gt;The...</td>\n",
       "      <td>positive</td>\n",
       "    </tr>\n",
       "    <tr>\n",
       "      <th>2</th>\n",
       "      <td>I thought this was a wonderful way to spend ti...</td>\n",
       "      <td>positive</td>\n",
       "    </tr>\n",
       "    <tr>\n",
       "      <th>3</th>\n",
       "      <td>Basically there's a family where a little boy ...</td>\n",
       "      <td>negative</td>\n",
       "    </tr>\n",
       "    <tr>\n",
       "      <th>4</th>\n",
       "      <td>Petter Mattei's \"Love in the Time of Money\" is...</td>\n",
       "      <td>positive</td>\n",
       "    </tr>\n",
       "    <tr>\n",
       "      <th>...</th>\n",
       "      <td>...</td>\n",
       "      <td>...</td>\n",
       "    </tr>\n",
       "    <tr>\n",
       "      <th>49995</th>\n",
       "      <td>I thought this movie did a down right good job...</td>\n",
       "      <td>positive</td>\n",
       "    </tr>\n",
       "    <tr>\n",
       "      <th>49996</th>\n",
       "      <td>Bad plot, bad dialogue, bad acting, idiotic di...</td>\n",
       "      <td>negative</td>\n",
       "    </tr>\n",
       "    <tr>\n",
       "      <th>49997</th>\n",
       "      <td>I am a Catholic taught in parochial elementary...</td>\n",
       "      <td>negative</td>\n",
       "    </tr>\n",
       "    <tr>\n",
       "      <th>49998</th>\n",
       "      <td>I'm going to have to disagree with the previou...</td>\n",
       "      <td>negative</td>\n",
       "    </tr>\n",
       "    <tr>\n",
       "      <th>49999</th>\n",
       "      <td>No one expects the Star Trek movies to be high...</td>\n",
       "      <td>negative</td>\n",
       "    </tr>\n",
       "  </tbody>\n",
       "</table>\n",
       "<p>50000 rows × 2 columns</p>\n",
       "</div>"
      ],
      "text/plain": [
       "                                                  review sentiment\n",
       "0      One of the other reviewers has mentioned that ...  positive\n",
       "1      A wonderful little production. <br /><br />The...  positive\n",
       "2      I thought this was a wonderful way to spend ti...  positive\n",
       "3      Basically there's a family where a little boy ...  negative\n",
       "4      Petter Mattei's \"Love in the Time of Money\" is...  positive\n",
       "...                                                  ...       ...\n",
       "49995  I thought this movie did a down right good job...  positive\n",
       "49996  Bad plot, bad dialogue, bad acting, idiotic di...  negative\n",
       "49997  I am a Catholic taught in parochial elementary...  negative\n",
       "49998  I'm going to have to disagree with the previou...  negative\n",
       "49999  No one expects the Star Trek movies to be high...  negative\n",
       "\n",
       "[50000 rows x 2 columns]"
      ]
     },
     "execution_count": 3,
     "metadata": {},
     "output_type": "execute_result"
    }
   ],
   "source": [
    "# Display the dataframe \n",
    "df"
   ]
  },
  {
   "cell_type": "markdown",
   "id": "f4f4e899-69a0-4a30-b8f6-71d333cf4674",
   "metadata": {},
   "source": [
    "**Interpretation: It could be observed that the dataset comprises of two (2) columns i.e. review and sentiment**"
   ]
  },
  {
   "cell_type": "markdown",
   "id": "6c8fa999",
   "metadata": {},
   "source": [
    "### Counts the number of positive and negative reviews "
   ]
  },
  {
   "cell_type": "code",
   "execution_count": 4,
   "id": "02dc8f18",
   "metadata": {},
   "outputs": [
    {
     "data": {
      "text/plain": [
       "sentiment\n",
       "positive    25000\n",
       "negative    25000\n",
       "Name: count, dtype: int64"
      ]
     },
     "execution_count": 4,
     "metadata": {},
     "output_type": "execute_result"
    }
   ],
   "source": [
    "# counts the number of positive and negative reviewd \n",
    "df['sentiment'].value_counts()   #codes derive from https://iq.opengenus.org/naive-bayes-sentiment-analysis/"
   ]
  },
  {
   "cell_type": "markdown",
   "id": "6e556741-feca-424c-bc12-6b3fc1893931",
   "metadata": {},
   "source": [
    "**Interpretation: the dataset comprises 25000 each of positive and negative reviews**"
   ]
  },
  {
   "cell_type": "markdown",
   "id": "f5b63686",
   "metadata": {},
   "source": [
    "### Data Preprocessing"
   ]
  },
  {
   "cell_type": "code",
   "execution_count": 5,
   "id": "ce61172d-7dc0-4ac8-af0f-554c959777dd",
   "metadata": {},
   "outputs": [],
   "source": [
    "#drop empty column\n",
    "df.dropna(inplace=True)"
   ]
  },
  {
   "cell_type": "code",
   "execution_count": 6,
   "id": "3e156f5a",
   "metadata": {},
   "outputs": [],
   "source": [
    "#check for blanks\n",
    "blanks = []\n",
    "for i, lb, rv in df.itertuples():\n",
    "    if type (rv) == str:\n",
    "        if rv.isspace():\n",
    "            blanks.append(i)"
   ]
  },
  {
   "cell_type": "code",
   "execution_count": 7,
   "id": "d618c33c-cfc6-4acd-9e5a-32c2351e80a1",
   "metadata": {},
   "outputs": [
    {
     "data": {
      "text/plain": [
       "[]"
      ]
     },
     "execution_count": 7,
     "metadata": {},
     "output_type": "execute_result"
    }
   ],
   "source": [
    "blanks"
   ]
  },
  {
   "cell_type": "markdown",
   "id": "b77c2397",
   "metadata": {},
   "source": [
    "### Lemmatization "
   ]
  },
  {
   "cell_type": "code",
   "execution_count": 8,
   "id": "5bce58eb",
   "metadata": {},
   "outputs": [],
   "source": [
    "# Note all the codes below were derived from https://iq.opengenus.org/naive-bayes-sentiment-analysis/\n",
    "\n",
    "lemmatizer = WordNetLemmatizer() # Initialize lemmatizer\n",
    "\n",
    "# word_counts[word][0] = occurrences of word in negative reviews\n",
    "# word_counts[word][1] = occurrences of word in positive reviews\n",
    "word_counts = defaultdict(lambda: [0, 0]) # returns [0, 0] by default if the key do not exist\n",
    "\n",
    "STOP_WORDS = stopwords.words('english')  #Load list of stopwords\n",
    "\n",
    "tokenizer = RegexpTokenizer(r'\\w+') # Initialize tokenizer to split text into words\n",
    "\n",
    "sentiment = list(df['sentiment']) # Convert 'sentiment' column of DataFrame to a list\n",
    "\n",
    "done =  0 # Initialize done counter\n",
    "\n",
    "total_positive_words = 0 # Initialize counter for total positive words\n",
    "total_negative_words = 0  # Initialize counter for total negative words\n",
    "\n",
    "# keep track of the number of positive and negative reviews (prior probabilities)\n",
    "total_positive_reviews = 0 # Initialize counter for total positive reviews\n",
    "total_negative_reviews = 0  # Initialize counter for total negative reviews"
   ]
  },
  {
   "cell_type": "markdown",
   "id": "691a0bf9-5b24-439b-aa36-80d679eb0dce",
   "metadata": {},
   "source": [
    "### Processing reviews to count word occurrences"
   ]
  },
  {
   "cell_type": "code",
   "execution_count": 9,
   "id": "36b08477",
   "metadata": {},
   "outputs": [],
   "source": [
    "# Note all the codes below were derived from https://iq.opengenus.org/naive-bayes-sentiment-analysis/\n",
    "\n",
    "for i, review in enumerate(list(df['review'])):  # Iterate over each review and its index\n",
    "    if sentiment[i] == 'positive':  # Check if the current review is positive\n",
    "        total_positive_reviews += 1  # Increment positive review counter\n",
    "    else:  # Otherwise, the review is negative\n",
    "        total_negative_reviews += 1  # Increment negative review counter\n",
    "    \n",
    "    for token in tokenizer.tokenize(review):  # Tokenize the review into individual words\n",
    "        token = token.lower()  # Convert the token to lowercase\n",
    "        token = lemmatizer.lemmatize(token)  # Lemmatize the token\n",
    "        if token not in STOP_WORDS:  # Check if the token is not a stop word\n",
    "            if sentiment[i] == 'positive':  # If the review is positive\n",
    "                word_counts[token][1] += 1  # Increment positive occurrence count for the token\n",
    "                total_positive_words += 1  # Increment total positive word counter\n",
    "            else:  # Otherwise, the review is negative\n",
    "                word_counts[token][0] += 1  # Increment negative occurrence count for the token\n",
    "                total_negative_words += 1  # Increment total negative word counter"
   ]
  },
  {
   "cell_type": "markdown",
   "id": "52a6e48f",
   "metadata": {},
   "source": [
    "### Sorting and trimming word count to top 5000\n"
   ]
  },
  {
   "cell_type": "code",
   "execution_count": 10,
   "id": "52030702",
   "metadata": {},
   "outputs": [],
   "source": [
    "# Note all the codes below were derived from https://iq.opengenus.org/naive-bayes-sentiment-analysis/\n",
    "\n",
    "word_counts = sorted(word_counts.items(),  # Sort the word_counts dictionary items\n",
    "                     key=lambda x : x[1][0] + x[1][1],  # Sort by the sum of occurrences in both positive and negative reviews\n",
    "                     reverse=True)[:5000]  # Take the top 5000 most frequent words\n"
   ]
  },
  {
   "cell_type": "code",
   "execution_count": 11,
   "id": "4eafd35b-e1b5-4f7e-80fb-7b4798df3c21",
   "metadata": {},
   "outputs": [],
   "source": [
    "# Note all the codes below were derived from https://iq.opengenus.org/naive-bayes-sentiment-analysis/\n",
    "word_counts = defaultdict(lambda: [0, 0], word_counts) # reinitialize word_counts as a defaultdict"
   ]
  },
  {
   "cell_type": "markdown",
   "id": "903e353e",
   "metadata": {},
   "source": [
    "### Function to Calculate Word Probability based on sentiment"
   ]
  },
  {
   "cell_type": "code",
   "execution_count": 12,
   "id": "ef566878-6a28-4d22-857e-8213f5b37b11",
   "metadata": {},
   "outputs": [],
   "source": [
    "# Note all the codes below were derived from https://iq.opengenus.org/naive-bayes-sentiment-analysis/\n",
    "\n",
    "def calculate_word_probability(word, sentiment):  # Define function to calculate probability of a word given the sentiment\n",
    "    if sentiment == 'positive':  # Check if the sentiment is positive\n",
    "        return math.log((word_counts[word][1] + 1) /  # Calculate log probability of the word in positive reviews\n",
    "                        (total_positive_words + 5000))  # Adjust for smoothing with total positive words plus vocabulary size\n",
    "    else:  # Otherwise, the sentiment is negative\n",
    "        return math.log((word_counts[word][0] + 1) /  # Calculate log probability of the word in negative reviews\n",
    "                        (total_negative_words + 5000))  # Adjust for smoothing with total negative words plus vocabulary size\n"
   ]
  },
  {
   "cell_type": "markdown",
   "id": "d13e24dd-e8d8-4ca8-aff4-d4314e2831e9",
   "metadata": {},
   "source": [
    "### Function to calculate review probability based on sentiment"
   ]
  },
  {
   "cell_type": "code",
   "execution_count": 13,
   "id": "a833836f-85b6-4ce6-aea6-b5cc8246ccb7",
   "metadata": {},
   "outputs": [],
   "source": [
    "# Note all the codes below were derived from https://iq.opengenus.org/naive-bayes-sentiment-analysis/\n",
    "\n",
    "def calculate_review_probability(review, sentiment):  # Define function to calculate probability of a review given the sentiment\n",
    "    if sentiment == 'positive':  # Check if the sentiment is positive\n",
    "        probability = math.log(total_positive_reviews / len(df))  # Start with log prior probability of positive reviews\n",
    "    else:  # Otherwise, the sentiment is negative\n",
    "        probability = math.log(total_negative_reviews / len(df))  # Start with log prior probability of negative reviews\n",
    "    \n",
    "    for token in tokenizer.tokenize(review):  # Tokenize the review into individual words\n",
    "        token = token.lower()  # Convert the token to lowercase\n",
    "        token = lemmatizer.lemmatize(token)  # Lemmatize the token\n",
    "        if token not in STOP_WORDS:  # Check if the token is not a stop word\n",
    "            probability += calculate_word_probability(token, sentiment)  # Add the log probability of the word given the sentiment\n",
    "    \n",
    "    return probability  # Return the total log probability for the review"
   ]
  },
  {
   "cell_type": "markdown",
   "id": "e8da7a68-acef-4af4-a8cd-cccc5bbd24d1",
   "metadata": {},
   "source": [
    "### Function to predict the sentiment of a review"
   ]
  },
  {
   "cell_type": "code",
   "execution_count": 14,
   "id": "494cb353-bc57-461a-b998-ee2e79510e26",
   "metadata": {},
   "outputs": [],
   "source": [
    "# Note all the codes below were derived from https://iq.opengenus.org/naive-bayes-sentiment-analysis/\n",
    "\n",
    "def predict(review):  # Define function to predict the sentiment of a given review\n",
    "    if calculate_review_probability(review, 'positive') > calculate_review_probability(review, 'negative'): # Compare prob. for pos & neg sentiments\n",
    "        return 'positive'  # Return 'positive' if the review is more likely positive\n",
    "    else:  # Otherwise, the review is more likely negative\n",
    "        return 'negative'  # Return 'negative'"
   ]
  },
  {
   "cell_type": "markdown",
   "id": "da425ae7-598d-4a9b-93b3-3fb8bd42276f",
   "metadata": {},
   "source": [
    "### Predict reviews on the data that the model has not seen "
   ]
  },
  {
   "cell_type": "code",
   "execution_count": 15,
   "id": "fa7fe703-2d36-4cc0-823a-a49329ba82cc",
   "metadata": {},
   "outputs": [
    {
     "name": "stdout",
     "output_type": "stream",
     "text": [
      "positive\n",
      "negative\n"
     ]
    }
   ],
   "source": [
    "print(predict('This movie was enjoyable')) #predict review \n",
    "print(predict('Not so good... I found it somewhat boring')) #predict review"
   ]
  },
  {
   "cell_type": "markdown",
   "id": "69b9c4d1-d81b-481b-be9b-9d8d0d026aaf",
   "metadata": {},
   "source": [
    "### Evaluate the accuracy of the model "
   ]
  },
  {
   "cell_type": "code",
   "execution_count": 16,
   "id": "57550da4-707c-40ac-8088-f82e42daffc2",
   "metadata": {},
   "outputs": [
    {
     "name": "stdout",
     "output_type": "stream",
     "text": [
      "Precision: 0.8906\n",
      "Recall: 0.7953\n",
      "F1 Score: 0.8403\n",
      "Accuracy: 0.8488\n"
     ]
    }
   ],
   "source": [
    "#Note all these codes were obtained from https://www.enjoyalgorithms.com/blog/sentiment-analysis-using-naive-bayes\n",
    "\n",
    "# Function to predict sentiment based on the review text\n",
    "def predict(review):\n",
    "    positive_prob = calculate_review_probability(review, 'positive')\n",
    "    negative_prob = calculate_review_probability(review, 'negative')\n",
    "    return 'positive' if positive_prob > negative_prob else 'negative'\n",
    "\n",
    "# Lists to store actual and predicted sentiments\n",
    "actual_sentiments = list(df['sentiment'])\n",
    "predicted_sentiments = []\n",
    "\n",
    "# Iterate through each review and predict the sentiment\n",
    "for review in list(df['review']):\n",
    "    predicted_sentiments.append(predict(review))\n",
    "\n",
    "# Calculate precision, recall, and F1 score\n",
    "precision = precision_score(actual_sentiments, predicted_sentiments, pos_label='positive')\n",
    "recall = recall_score(actual_sentiments, predicted_sentiments, pos_label='positive')\n",
    "f1 = f1_score(actual_sentiments, predicted_sentiments, pos_label='positive')\n",
    "\n",
    "# Print the metrics\n",
    "print(f\"Precision: {precision:.4f}\")\n",
    "print(f\"Recall: {recall:.4f}\")\n",
    "print(f\"F1 Score: {f1:.4f}\")\n",
    "\n",
    "# Calculate and print the overall accuracy for completeness\n",
    "correct = sum(1 for i in range(len(actual_sentiments)) if actual_sentiments[i] == predicted_sentiments[i])\n",
    "accuracy = correct / len(actual_sentiments)\n",
    "print(f\"Accuracy: {accuracy:.4f}\")"
   ]
  },
  {
   "cell_type": "markdown",
   "id": "479fce64-a53f-4f1d-902b-43f915ef5f89",
   "metadata": {},
   "source": [
    "**Interpretation Precision measures the proportion of true positive predictions among all positive predictions. From the output, the word counts Naive Bayes model shows a higher precision, 89.1% relative to the TF-IDF model, 85.1%. This suggests that the word count model is more superior to identifying positive reviews among those it predicts as positive.**"
   ]
  },
  {
   "cell_type": "markdown",
   "id": "342ebdfc-cb98-461e-aa0a-d437478492d0",
   "metadata": {},
   "source": [
    "### Train and evaluate a Naive Bayes Model using TF-IDF "
   ]
  },
  {
   "cell_type": "code",
   "execution_count": 17,
   "id": "b2b5b6b9-ede0-4fe4-9a25-2e3131406173",
   "metadata": {},
   "outputs": [
    {
     "name": "stdout",
     "output_type": "stream",
     "text": [
      "Precision: 0.8506\n",
      "Recall: 0.8551\n",
      "F1 Score: 0.8528\n",
      "Accuracy: 0.8513\n"
     ]
    }
   ],
   "source": [
    "# Initialize TfidfVectorizer\n",
    "tfidf_vectorizer = TfidfVectorizer(stop_words='english', max_features=5000)\n",
    "\n",
    "# Fit and transform the review data to TF-IDF features\n",
    "X_tfidf = tfidf_vectorizer.fit_transform(df['review'])\n",
    "\n",
    "# Create the target variable\n",
    "y = df['sentiment'].apply(lambda x: 1 if x == 'positive' else 0)\n",
    "\n",
    "# Split the data into training and test sets (e.g., 80% train, 20% test)\n",
    "from sklearn.model_selection import train_test_split\n",
    "X_train, X_test, y_train, y_test = train_test_split(X_tfidf, y, test_size=0.2, random_state=42)\n",
    "\n",
    "# Initialize and train the Naive Bayes classifier\n",
    "nb_classifier = MultinomialNB()\n",
    "nb_classifier.fit(X_train, y_train)\n",
    "\n",
    "# Predict the sentiments on the test set\n",
    "y_pred = nb_classifier.predict(X_test)\n",
    "\n",
    "# Calculate precision, recall, and F1 score\n",
    "precision = precision_score(y_test, y_pred)\n",
    "recall = recall_score(y_test, y_pred)\n",
    "f1 = f1_score(y_test, y_pred)\n",
    "\n",
    "# Print the metrics\n",
    "print(f\"Precision: {precision:.4f}\")\n",
    "print(f\"Recall: {recall:.4f}\")\n",
    "print(f\"F1 Score: {f1:.4f}\")\n",
    "\n",
    "# Calculate and print the overall accuracy\n",
    "accuracy = accuracy_score(y_test, y_pred)\n",
    "print(f\"Accuracy: {accuracy:.4f}\")"
   ]
  },
  {
   "cell_type": "markdown",
   "id": "e5032e50-0b1c-4c6c-bf11-c0497e1039c3",
   "metadata": {},
   "source": [
    "**On the other hand, the TF-IDF model shows a higher recall, F1 score, and Accuracy values relative to the word counts model suggesting that the TF-IDF model is better at identifying actual positive reviews i.e. marginally performs better in terms of predictions and has demonstrated a better balance between precision and recall.**\n"
   ]
  },
  {
   "cell_type": "markdown",
   "id": "b764334a-2f04-4e43-929e-855eed7e4500",
   "metadata": {},
   "source": [
    "### Train and evalaute a Support vector machine model using TF-IDF"
   ]
  },
  {
   "cell_type": "markdown",
   "id": "b8afa76b-52f1-470b-979d-7d1b9f26fbe5",
   "metadata": {},
   "source": [
    "**Note the codes below were derived from https://scikit-learn.org/stable/modules/generated/sklearn.feature_extraction.text.TfidfVectorizer.html**"
   ]
  },
  {
   "cell_type": "code",
   "execution_count": 23,
   "id": "4145a01a-9ded-45d0-b1eb-0c1d1b062494",
   "metadata": {},
   "outputs": [
    {
     "name": "stdout",
     "output_type": "stream",
     "text": [
      "Precision: 0.8750\n",
      "Recall: 0.8972\n",
      "F1 Score: 0.8859\n",
      "Accuracy: 0.8836\n"
     ]
    }
   ],
   "source": [
    "from sklearn.feature_extraction.text import TfidfVectorizer\n",
    "from sklearn.svm import SVC\n",
    "from sklearn.metrics import precision_score, recall_score, f1_score, accuracy_score\n",
    "from sklearn.model_selection import train_test_split\n",
    "\n",
    "# Initialize TfidfVectorizer\n",
    "tfidf_vectorizer = TfidfVectorizer(stop_words='english', max_features=5000)\n",
    "\n",
    "# Fit and transform the review data to TF-IDF features\n",
    "X_tfidf = tfidf_vectorizer.fit_transform(df['review'])\n",
    "\n",
    "# Create the target variable\n",
    "y = df['sentiment'].apply(lambda x: 1 if x == 'positive' else 0)\n",
    "\n",
    "# Split the data into training and test sets (e.g., 80% train, 20% test)\n",
    "X_train, X_test, y_train, y_test = train_test_split(X_tfidf, y, test_size=0.2, random_state=42)\n",
    "\n",
    "# Initialize and train the SVM classifier\n",
    "svm_classifier = SVC(kernel='linear', C=1.0, random_state=42)\n",
    "svm_classifier.fit(X_train, y_train)\n",
    "\n",
    "# Predict the sentiments on the test set\n",
    "y_pred = svm_classifier.predict(X_test)\n",
    "\n",
    "# Calculate precision, recall, and F1 score\n",
    "precision = precision_score(y_test, y_pred)\n",
    "recall = recall_score(y_test, y_pred)\n",
    "f1 = f1_score(y_test, y_pred)\n",
    "\n",
    "# Print the metrics\n",
    "print(f\"Precision: {precision:.4f}\")\n",
    "print(f\"Recall: {recall:.4f}\")\n",
    "print(f\"F1 Score: {f1:.4f}\")\n",
    "\n",
    "# Calculate and print the overall accuracy\n",
    "accuracy = accuracy_score(y_test, y_pred)\n",
    "print(f\"Accuracy: {accuracy:.4f}\")"
   ]
  },
  {
   "cell_type": "markdown",
   "id": "67b7d852-fa99-4505-9224-fed8287b2c95",
   "metadata": {},
   "source": [
    "**Interpretation: the output of the SVM suggests that the support vector machine has emulated the Naive Bayes model in terms of Precision, recall, F1 score, and Accuracy scores. This is could be due to the strong advantage of SVM to handle both linear and non-linear data.**"
   ]
  },
  {
   "cell_type": "markdown",
   "id": "cc62aaa5-ce96-48ac-9f98-1295cf2db190",
   "metadata": {},
   "source": [
    "### Train and evalaute a Decision Tree model using TF-IDF"
   ]
  },
  {
   "cell_type": "code",
   "execution_count": 19,
   "id": "6c4564d5-5fe5-4a15-bcb9-7ed677ee6e62",
   "metadata": {},
   "outputs": [
    {
     "name": "stdout",
     "output_type": "stream",
     "text": [
      "Precision: 0.7232\n",
      "Recall: 0.7162\n",
      "F1 Score: 0.7197\n",
      "Accuracy: 0.7189\n"
     ]
    }
   ],
   "source": [
    "from sklearn.feature_extraction.text import TfidfVectorizer\n",
    "from sklearn.tree import DecisionTreeClassifier\n",
    "from sklearn.metrics import precision_score, recall_score, f1_score, accuracy_score\n",
    "from sklearn.model_selection import train_test_split\n",
    "\n",
    "# Initialize TfidfVectorizer\n",
    "tfidf_vectorizer = TfidfVectorizer(stop_words='english', max_features=5000)\n",
    "\n",
    "# Fit and transform the review data to TF-IDF features\n",
    "X_tfidf = tfidf_vectorizer.fit_transform(df['review'])\n",
    "\n",
    "# Create the target variable\n",
    "y = df['sentiment'].apply(lambda x: 1 if x == 'positive' else 0)\n",
    "\n",
    "# Split the data into training and test sets (e.g., 80% train, 20% test)\n",
    "X_train, X_test, y_train, y_test = train_test_split(X_tfidf, y, test_size=0.2, random_state=42)\n",
    "\n",
    "# Initialize and train the Decision Tree classifier\n",
    "dt_classifier = DecisionTreeClassifier(random_state=42)\n",
    "dt_classifier.fit(X_train, y_train)\n",
    "\n",
    "# Predict the sentiments on the test set\n",
    "y_pred = dt_classifier.predict(X_test)\n",
    "\n",
    "# Calculate precision, recall, and F1 score\n",
    "precision = precision_score(y_test, y_pred)\n",
    "recall = recall_score(y_test, y_pred)\n",
    "f1 = f1_score(y_test, y_pred)\n",
    "\n",
    "# Print the metrics\n",
    "print(f\"Precision: {precision:.4f}\")\n",
    "print(f\"Recall: {recall:.4f}\")\n",
    "print(f\"F1 Score: {f1:.4f}\")\n",
    "\n",
    "# Calculate and print the overall accuracy\n",
    "accuracy = accuracy_score(y_test, y_pred)\n",
    "print(f\"Accuracy: {accuracy:.4f}\")"
   ]
  },
  {
   "cell_type": "markdown",
   "id": "99c51324-df99-41c3-865c-c329415f6657",
   "metadata": {},
   "source": [
    "**Interpretation: the output of the Decision Tree suggests that the it performs the worst among the models, with lower precision, recall, F1 score, and accuracy, all around 72%.**"
   ]
  },
  {
   "cell_type": "markdown",
   "id": "e82b4664-9e80-4afe-8fbf-b25820cf8601",
   "metadata": {},
   "source": [
    "### Train and evalaute a Logistics Regression model using TF-IDF"
   ]
  },
  {
   "cell_type": "code",
   "execution_count": 25,
   "id": "c77f3a04-fc4e-44b2-8539-12a262dc3374",
   "metadata": {},
   "outputs": [
    {
     "name": "stdout",
     "output_type": "stream",
     "text": [
      "Precision: 0.8791\n",
      "Recall: 0.9059\n",
      "F1 Score: 0.8923\n",
      "Accuracy: 0.8898\n"
     ]
    },
    {
     "name": "stderr",
     "output_type": "stream",
     "text": [
      "C:\\Users\\sulbi\\anaconda3\\Lib\\site-packages\\sklearn\\linear_model\\_logistic.py:458: ConvergenceWarning: lbfgs failed to converge (status=1):\n",
      "STOP: TOTAL NO. of ITERATIONS REACHED LIMIT.\n",
      "\n",
      "Increase the number of iterations (max_iter) or scale the data as shown in:\n",
      "    https://scikit-learn.org/stable/modules/preprocessing.html\n",
      "Please also refer to the documentation for alternative solver options:\n",
      "    https://scikit-learn.org/stable/modules/linear_model.html#logistic-regression\n",
      "  n_iter_i = _check_optimize_result(\n"
     ]
    }
   ],
   "source": [
    "from sklearn.feature_extraction.text import TfidfVectorizer\n",
    "from sklearn.linear_model import LogisticRegression\n",
    "from sklearn.metrics import precision_score, recall_score, f1_score, accuracy_score\n",
    "from sklearn.model_selection import train_test_split\n",
    "\n",
    "# Initialize TfidfVectorizer\n",
    "tfidf_vectorizer = TfidfVectorizer(stop_words='english', max_features=5000)\n",
    "\n",
    "# Fit and transform the review data to TF-IDF features\n",
    "X_tfidf = tfidf_vectorizer.fit_transform(df['review'])\n",
    "\n",
    "# Create the target variable\n",
    "y = df['sentiment'].apply(lambda x: 1 if x == 'positive' else 0)\n",
    "\n",
    "# Split the data into training and test sets (e.g., 80% train, 20% test)\n",
    "X_train, X_test, y_train, y_test = train_test_split(X_tfidf, y, test_size=0.2, random_state=42)\n",
    "\n",
    "# Initialize and train the Logistic Regression classifier\n",
    "logreg_classifier = LogisticRegression(random_state=42)\n",
    "logreg_classifier.fit(X_train, y_train)\n",
    "\n",
    "# Predict the sentiments on the test set\n",
    "y_pred = logreg_classifier.predict(X_test)\n",
    "\n",
    "# Calculate precision, recall, and F1 score\n",
    "precision = precision_score(y_test, y_pred)\n",
    "recall = recall_score(y_test, y_pred)\n",
    "f1 = f1_score(y_test, y_pred)\n",
    "\n",
    "# Print the metrics\n",
    "print(f\"Precision: {precision:.4f}\")\n",
    "print(f\"Recall: {recall:.4f}\")\n",
    "print(f\"F1 Score: {f1:.4f}\")\n",
    "\n",
    "# Calculate and print the overall accuracy\n",
    "accuracy = accuracy_score(y_test, y_pred)\n",
    "print(f\"Accuracy: {accuracy:.4f}\")"
   ]
  },
  {
   "cell_type": "markdown",
   "id": "ed656bad-6122-4843-81d4-fba3d99fb328",
   "metadata": {},
   "source": [
    "**Interpretation: the output of the Logistics regression suggests that it performs similarly to SVM, with high precision, recall, F1 score, and accuracy, even though it is slightly better, particularly in recall.**"
   ]
  },
  {
   "cell_type": "markdown",
   "id": "0cf567d0-33f3-44c8-b209-32fa62d185c6",
   "metadata": {},
   "source": [
    "## Comparison of Model Parameters using Line Graphs"
   ]
  },
  {
   "cell_type": "code",
   "execution_count": 31,
   "id": "d82b79b0-bb66-4abe-b799-0616ef58bf56",
   "metadata": {},
   "outputs": [
    {
     "data": {
      "image/png": "[encoded data removed]",
      "text/plain": [
       "<Figure size 1100x400 with 1 Axes>"
      ]
     },
     "metadata": {},
     "output_type": "display_data"
    }
   ],
   "source": [
    "import matplotlib.pyplot as plt\n",
    "import numpy as np\n",
    "\n",
    "# Performance metrics for each model\n",
    "metrics = {\n",
    "    'Naive Bayes': {'Precision': 0.8506, 'Recall': 0.8551, 'F1 Score': 0.8528, 'Accuracy': 0.8513},\n",
    "    'Support Vector Machine': {'Precision': 0.8750, 'Recall': 0.8972, 'F1 Score': 0.8859, 'Accuracy': 0.8836},\n",
    "    'Decision Tree': {'Precision': 0.7232, 'Recall': 0.7162, 'F1 Score': 0.7197, 'Accuracy': 0.7189},\n",
    "    'Logistic Regression': {'Precision': 0.8791, 'Recall': 0.9059, 'F1 Score': 0.8923, 'Accuracy': 0.8898}\n",
    "}\n",
    "\n",
    "# Extract data for plotting\n",
    "models = list(metrics.keys())\n",
    "precision = [metrics[model]['Precision'] for model in models]\n",
    "recall = [metrics[model]['Recall'] for model in models]\n",
    "f1_score = [metrics[model]['F1 Score'] for model in models]\n",
    "accuracy = [metrics[model]['Accuracy'] for model in models]\n",
    "\n",
    "# Define the positions on the x-axis\n",
    "x = np.arange(len(models))\n",
    "\n",
    "# Plot the performance metrics\n",
    "plt.figure(figsize=(11, 4))\n",
    "\n",
    "plt.plot(x, precision, marker='o', label='Precision')\n",
    "plt.plot(x, recall, marker='o', label='Recall')\n",
    "plt.plot(x, f1_score, marker='o', label='F1 Score')\n",
    "plt.plot(x, accuracy, marker='o', label='Accuracy')\n",
    "\n",
    "plt.xlabel('Models')\n",
    "plt.ylabel('Scores')\n",
    "plt.title('Figure 2. Comparison of Model Performance Metrics')\n",
    "plt.xticks(x, models)\n",
    "plt.legend()\n",
    "plt.grid(True)\n",
    "plt.tight_layout()\n",
    "\n",
    "# Show the plot\n",
    "plt.show()"
   ]
  },
  {
   "cell_type": "markdown",
   "id": "272d62f6-1cc0-4f27-815d-a5a6855602e8",
   "metadata": {},
   "source": [
    "## General Conclusion"
   ]
  },
  {
   "cell_type": "markdown",
   "id": "d874ea75-080c-4228-9066-05c68e413a55",
   "metadata": {},
   "source": [
    "**Logistic Regression which shows the highest precision, recall, F1 score, and accuracy is regarded as the best performing followed by the Support Vector Machine. However, the baseline model, Naive Baperformance even though it is superior to the Decision tree which demonstrated the lowest performance**"
   ]
  },
  {
   "cell_type": "markdown",
   "id": "20e2bd46-16cf-434b-8fe8-81bd66b265c3",
   "metadata": {},
   "source": [
    "## References"
   ]
  },
  {
   "cell_type": "raw",
   "id": "120b2239",
   "metadata": {},
   "source": [
    "https://scikit-learn.org/stable/modules/generated/sklearn.feature_extraction.text.TfidfVectorizer.html"
   ]
  },
  {
   "cell_type": "raw",
   "id": "18223d0f-6077-4852-832e-2ad74a61e64a",
   "metadata": {},
   "source": [
    "https://www.enjoyalgorithms.com/blog/sentiment-analysis-using-naive-bayes"
   ]
  },
  {
   "cell_type": "raw",
   "id": "b9a905f9-088c-49ed-978d-13f1a914d1e4",
   "metadata": {},
   "source": [
    "https://iq.opengenus.org/naive-bayes-sentiment-analysis/"
   ]
  }
 ],
 "metadata": {
  "kernelspec": {
   "display_name": "Python 3 (ipykernel)",
   "language": "python",
   "name": "python3"
  },
  "language_info": {
   "codemirror_mode": {
    "name": "ipython",
    "version": 3
   },
   "file_extension": ".py",
   "mimetype": "text/x-python",
   "name": "python",
   "nbconvert_exporter": "python",
   "pygments_lexer": "ipython3",
   "version": "3.11.7"
  }
 },
 "nbformat": 4,
 "nbformat_minor": 5
}
